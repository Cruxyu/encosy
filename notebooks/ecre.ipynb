{
 "cells": [
  {
   "cell_type": "code",
   "execution_count": 30,
   "metadata": {
    "collapsed": true
   },
   "outputs": [],
   "source": [
    "class Entities(list):\n",
    "    pass\n",
    "\n",
    "class Entity(dict):\n",
    "    def __init__(self, *components):\n",
    "        \"\"\"\n",
    "        Basic class for storing components by their type\n",
    "        If duplicated types passed function raise ValueError\n",
    "        It is necessary because entity stored as dict with key as type\n",
    "        and value as component itself\n",
    "        :param components: accumulative of any type component\n",
    "        \"\"\"\n",
    "        super().__init__({\n",
    "            type(com): com for com in components\n",
    "        })\n"
   ]
  },
  {
   "cell_type": "code",
   "execution_count": 18,
   "outputs": [],
   "source": [
    "entity: Entity[int, str, bool] = Entity({\"A\": 1, 1: 1, (1, 2): 3})"
   ],
   "metadata": {
    "collapsed": false
   }
  },
  {
   "cell_type": "code",
   "execution_count": 27,
   "outputs": [],
   "source": [
    "from inspect import signature\n",
    "from typing import get_args"
   ],
   "metadata": {
    "collapsed": false
   }
  },
  {
   "cell_type": "code",
   "execution_count": 31,
   "outputs": [],
   "source": [
    "def my_system(humans: Entities[Entity[str]]):\n",
    "    pass"
   ],
   "metadata": {
    "collapsed": false
   }
  },
  {
   "cell_type": "code",
   "execution_count": 34,
   "outputs": [
    {
     "name": "stdout",
     "output_type": "stream",
     "text": [
      "(<class 'str'>,)\n"
     ]
    }
   ],
   "source": [
    "for name, param in signature(my_system).parameters.items():\n",
    "    print(get_args(get_args(param.annotation)[0]))"
   ],
   "metadata": {
    "collapsed": false
   }
  },
  {
   "cell_type": "code",
   "execution_count": null,
   "outputs": [],
   "source": [],
   "metadata": {
    "collapsed": false
   }
  }
 ],
 "metadata": {
  "kernelspec": {
   "display_name": "Python 3",
   "language": "python",
   "name": "python3"
  },
  "language_info": {
   "codemirror_mode": {
    "name": "ipython",
    "version": 2
   },
   "file_extension": ".py",
   "mimetype": "text/x-python",
   "name": "python",
   "nbconvert_exporter": "python",
   "pygments_lexer": "ipython2",
   "version": "2.7.6"
  }
 },
 "nbformat": 4,
 "nbformat_minor": 0
}
