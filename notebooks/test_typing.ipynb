{
 "cells": [
  {
   "cell_type": "code",
   "execution_count": 12,
   "metadata": {
    "collapsed": true
   },
   "outputs": [],
   "source": [
    "from typing import Any, Callable, TypeVar, get_args, get_origin, Generic\n",
    "from inspect import signature"
   ]
  },
  {
   "cell_type": "code",
   "execution_count": 2,
   "outputs": [],
   "source": [
    "T = TypeVar('T')\n",
    "A = TypeVar('A')"
   ],
   "metadata": {
    "collapsed": false
   }
  },
  {
   "cell_type": "code",
   "execution_count": 4,
   "outputs": [],
   "source": [
    "class With(Generic[T]):\n",
    "    pass\n",
    "\n",
    "class Without(Generic[T]):\n",
    "    pass"
   ],
   "metadata": {
    "collapsed": false
   }
  },
  {
   "cell_type": "code",
   "execution_count": 5,
   "outputs": [],
   "source": [
    "class Query(Generic[T, A]):\n",
    "    pass"
   ],
   "metadata": {
    "collapsed": false
   }
  },
  {
   "cell_type": "code",
   "execution_count": 17,
   "outputs": [],
   "source": [
    "class MyComponent(int):\n",
    "    pass\n",
    "class MyOtherComponent(str):\n",
    "    pass\n",
    "class Entity:\n",
    "    pass"
   ],
   "metadata": {
    "collapsed": false
   }
  },
  {
   "cell_type": "code",
   "execution_count": 23,
   "outputs": [],
   "source": [
    "def my_system(query: Query[(MyComponent | MyOtherComponent), Without[MyOtherComponent]]):\n",
    "    print(query)"
   ],
   "metadata": {
    "collapsed": false
   }
  },
  {
   "cell_type": "code",
   "execution_count": 25,
   "outputs": [
    {
     "data": {
      "text/plain": "(__main__.MyComponent, __main__.MyOtherComponent)"
     },
     "execution_count": 25,
     "metadata": {},
     "output_type": "execute_result"
    }
   ],
   "source": [
    "get_args(get_args(signature(my_system).parameters[\"query\"].annotation)[0])"
   ],
   "metadata": {
    "collapsed": false
   }
  },
  {
   "cell_type": "code",
   "execution_count": 1,
   "outputs": [],
   "source": [
    "from typing import TypeVar\n",
    "\n",
    "T = TypeVar('T')\n",
    "\n",
    "\n",
    "class Entity(dict[type, T]):\n",
    "    __getattr__ = dict.get\n",
    "    __setattr__ = dict.__setitem__\n",
    "    __delattr__ = dict.__delitem__\n",
    "    def __init__(self, *components: T):\n",
    "        \"\"\"\n",
    "        Basic class for storing components by their type\n",
    "\n",
    "        If duplicated types passed no error will be raised\n",
    "        instead duplicate value replace existing one\n",
    "\n",
    "        :param components: accumulative of any type component\n",
    "        \"\"\"\n",
    "        super().__init__({type(com): com for com in components})\n"
   ],
   "metadata": {
    "collapsed": false
   }
  },
  {
   "cell_type": "code",
   "execution_count": 2,
   "outputs": [],
   "source": [
    "entity: Entity[int | str] = Entity(\"MyMy\", 33)"
   ],
   "metadata": {
    "collapsed": false
   }
  },
  {
   "cell_type": "code",
   "execution_count": 10,
   "outputs": [
    {
     "data": {
      "text/plain": "{str: 'MyMy', int: 33}"
     },
     "execution_count": 10,
     "metadata": {},
     "output_type": "execute_result"
    }
   ],
   "source": [
    "entity"
   ],
   "metadata": {
    "collapsed": false
   }
  },
  {
   "cell_type": "code",
   "execution_count": 8,
   "outputs": [
    {
     "data": {
      "text/plain": "dict_keys([<class 'str'>, <class 'int'>])"
     },
     "execution_count": 8,
     "metadata": {},
     "output_type": "execute_result"
    }
   ],
   "source": [
    "entity.keys()"
   ],
   "metadata": {
    "collapsed": false
   }
  },
  {
   "cell_type": "code",
   "execution_count": 11,
   "outputs": [],
   "source": [
    "tuple1 = (\"man\", 1)\n",
    "tuple2 = (\"woman\", 22)"
   ],
   "metadata": {
    "collapsed": false
   }
  },
  {
   "cell_type": "code",
   "execution_count": 14,
   "outputs": [],
   "source": [
    "entities = {tuple1, tuple2}"
   ],
   "metadata": {
    "collapsed": false
   }
  },
  {
   "cell_type": "code",
   "execution_count": 16,
   "outputs": [],
   "source": [
    "entities.discard(tuple1)"
   ],
   "metadata": {
    "collapsed": false
   }
  },
  {
   "cell_type": "code",
   "execution_count": 17,
   "outputs": [
    {
     "data": {
      "text/plain": "{('woman', 22)}"
     },
     "execution_count": 17,
     "metadata": {},
     "output_type": "execute_result"
    }
   ],
   "source": [
    "entities"
   ],
   "metadata": {
    "collapsed": false
   }
  },
  {
   "cell_type": "code",
   "execution_count": 19,
   "outputs": [],
   "source": [
    "entities.add(tuple1)"
   ],
   "metadata": {
    "collapsed": false
   }
  },
  {
   "cell_type": "code",
   "execution_count": 20,
   "outputs": [
    {
     "data": {
      "text/plain": "{('man', 1), ('woman', 22)}"
     },
     "execution_count": 20,
     "metadata": {},
     "output_type": "execute_result"
    }
   ],
   "source": [
    "entities"
   ],
   "metadata": {
    "collapsed": false
   }
  },
  {
   "cell_type": "code",
   "execution_count": 21,
   "outputs": [],
   "source": [
    "from abc import ABCMeta\n",
    "\n",
    "class EntityStorage(ABCMeta):\n",
    "    def add_entity(cls, entity: Entity):\n",
    "        pass\n",
    "    def add_entities(cls, *entities: Entity):\n",
    "        pass\n",
    "    def drop_entity(cls, entity: Entity):\n",
    "        pass\n"
   ],
   "metadata": {
    "collapsed": false
   }
  },
  {
   "cell_type": "code",
   "execution_count": 22,
   "outputs": [],
   "source": [
    "components = set()\n",
    "def component(class_type):\n",
    "    components.add(class_type)"
   ],
   "metadata": {
    "collapsed": false
   }
  },
  {
   "cell_type": "code",
   "execution_count": 12,
   "outputs": [],
   "source": [
    "from encosy.storage.typings import Commands, Entities\n",
    "\n",
    "def system(commands: Commands, entities: Entities[str | list], resource: int):\n",
    "    pass"
   ],
   "metadata": {
    "collapsed": false
   }
  },
  {
   "cell_type": "code",
   "execution_count": 13,
   "outputs": [
    {
     "name": "stdout",
     "output_type": "stream",
     "text": [
      "Average = 1.583724617958069e-05\n",
      "Total = 15.837246179580688\n"
     ]
    }
   ],
   "source": [
    "from typing import get_args, get_origin\n",
    "from inspect import signature\n",
    "import time\n",
    "\n",
    "calcs = []\n",
    "for _ in range(1_000_000):\n",
    "    start = time.time()\n",
    "    for name, arg in signature(system).parameters.items():\n",
    "        annotation = arg.annotation\n",
    "        if annotation == Commands:\n",
    "            pass\n",
    "        elif annotation == Entities:\n",
    "            pass\n",
    "        else:\n",
    "            pass\n",
    "    end = time.time()\n",
    "    calcs.append(end-start)\n",
    "print(f\"Average = {sum(calcs)/len(calcs)}\")\n",
    "print(f\"Total = {sum(calcs)}\")"
   ],
   "metadata": {
    "collapsed": false
   }
  },
  {
   "cell_type": "code",
   "execution_count": 14,
   "outputs": [
    {
     "name": "stdout",
     "output_type": "stream",
     "text": [
      "Average = 6.049745082855224e-07\n",
      "Total = 0.6049745082855225\n"
     ]
    }
   ],
   "source": [
    "from typing import get_args, get_origin\n",
    "from inspect import signature\n",
    "import time\n",
    "\n",
    "calcs = []\n",
    "for _ in range(1_000_000):\n",
    "    start = time.time()\n",
    "    for name, annotation in system.__annotations__.items():\n",
    "        if annotation is Commands:\n",
    "            pass\n",
    "        elif annotation is Entities:\n",
    "            pass\n",
    "        else:\n",
    "            pass\n",
    "    end = time.time()\n",
    "    calcs.append(end-start)\n",
    "print(f\"Average = {sum(calcs)/len(calcs)}\")\n",
    "print(f\"Total = {sum(calcs)}\")"
   ],
   "metadata": {
    "collapsed": false
   }
  },
  {
   "cell_type": "code",
   "execution_count": 15,
   "outputs": [
    {
     "name": "stdout",
     "output_type": "stream",
     "text": [
      "Average = 6.967558860778809e-07\n",
      "Total = 0.6967558860778809\n"
     ]
    }
   ],
   "source": [
    "from typing import get_args, get_origin\n",
    "from inspect import signature\n",
    "import time\n",
    "\n",
    "calcs = []\n",
    "for _ in range(1_000_000):\n",
    "    start = time.time()\n",
    "    for name, annotation in system.__annotations__.items():\n",
    "        if annotation == Commands:\n",
    "            pass\n",
    "        elif annotation == Entities:\n",
    "            pass\n",
    "        else:\n",
    "            pass\n",
    "    end = time.time()\n",
    "    calcs.append(end-start)\n",
    "print(f\"Average = {sum(calcs)/len(calcs)}\")\n",
    "print(f\"Total = {sum(calcs)}\")"
   ],
   "metadata": {
    "collapsed": false
   }
  },
  {
   "cell_type": "code",
   "execution_count": 22,
   "outputs": [],
   "source": [
    "import sqlite3"
   ],
   "metadata": {
    "collapsed": false
   }
  },
  {
   "cell_type": "code",
   "execution_count": 23,
   "outputs": [],
   "source": [
    "conn = sqlite3.connect(\"test.db\")"
   ],
   "metadata": {
    "collapsed": false
   }
  },
  {
   "cell_type": "code",
   "execution_count": 24,
   "outputs": [],
   "source": [
    "cur = conn.cursor()"
   ],
   "metadata": {
    "collapsed": false
   }
  },
  {
   "cell_type": "code",
   "execution_count": null,
   "outputs": [],
   "source": [
    "cur.execute(\"CREATE TABLE Functions\")"
   ],
   "metadata": {
    "collapsed": false
   }
  },
  {
   "cell_type": "code",
   "execution_count": 1,
   "outputs": [],
   "source": [
    "from encosy.storage.system_storage import process_system_arguments\n",
    "from encosy.storage.typings import Entities, Commands"
   ],
   "metadata": {
    "collapsed": false
   }
  },
  {
   "cell_type": "code",
   "execution_count": 2,
   "outputs": [],
   "source": [
    "def system(commands: Commands, entities: Entities[str | list], resource: int):\n",
    "    pass"
   ],
   "metadata": {
    "collapsed": false
   }
  },
  {
   "cell_type": "code",
   "execution_count": 4,
   "outputs": [
    {
     "data": {
      "text/plain": "True"
     },
     "execution_count": 4,
     "metadata": {},
     "output_type": "execute_result"
    }
   ],
   "source": [
    "{int} <= process_system_arguments(system).types"
   ],
   "metadata": {
    "collapsed": false
   }
  },
  {
   "cell_type": "code",
   "execution_count": 5,
   "outputs": [
    {
     "data": {
      "text/plain": "{'commands': encosy.storage.typings.Commands,\n 'entities': encosy.storage.typings.Entities[str | list],\n 'resource': int}"
     },
     "execution_count": 5,
     "metadata": {},
     "output_type": "execute_result"
    }
   ],
   "source": [
    "system.__annotations__"
   ],
   "metadata": {
    "collapsed": false
   }
  },
  {
   "cell_type": "code",
   "execution_count": null,
   "outputs": [],
   "source": [
    "def test(system: ()):\n",
    "    print(system.__annotations__)"
   ],
   "metadata": {
    "collapsed": false
   }
  },
  {
   "cell_type": "code",
   "execution_count": 12,
   "outputs": [],
   "source": [
    "my_t = Entities[int]"
   ],
   "metadata": {
    "collapsed": false
   }
  },
  {
   "cell_type": "code",
   "execution_count": 30,
   "outputs": [
    {
     "data": {
      "text/plain": "(int,)"
     },
     "execution_count": 30,
     "metadata": {},
     "output_type": "execute_result"
    }
   ],
   "source": [
    "get_args(my_t)"
   ],
   "metadata": {
    "collapsed": false
   }
  },
  {
   "cell_type": "code",
   "execution_count": 31,
   "outputs": [
    {
     "data": {
      "text/plain": "(int,)"
     },
     "execution_count": 31,
     "metadata": {},
     "output_type": "execute_result"
    }
   ],
   "source": [
    "my_t.__args__"
   ],
   "metadata": {
    "collapsed": false
   }
  },
  {
   "cell_type": "code",
   "execution_count": 10,
   "outputs": [
    {
     "data": {
      "text/plain": "True"
     },
     "execution_count": 10,
     "metadata": {},
     "output_type": "execute_result"
    }
   ],
   "source": [
    "entity = {int: None, str: None}\n",
    "set((str, )) <= entity.keys()"
   ],
   "metadata": {
    "collapsed": false
   }
  },
  {
   "cell_type": "code",
   "execution_count": 17,
   "outputs": [
    {
     "data": {
      "text/plain": "encosy.storage.typings.Entities"
     },
     "execution_count": 17,
     "metadata": {},
     "output_type": "execute_result"
    }
   ],
   "source": [
    "my_t.__origin__"
   ],
   "metadata": {
    "collapsed": false
   }
  },
  {
   "cell_type": "code",
   "execution_count": 19,
   "outputs": [
    {
     "ename": "AttributeError",
     "evalue": "type object 'Entities' has no attribute '__origin__'",
     "output_type": "error",
     "traceback": [
      "\u001B[0;31m---------------------------------------------------------------------------\u001B[0m",
      "\u001B[0;31mAttributeError\u001B[0m                            Traceback (most recent call last)",
      "Cell \u001B[0;32mIn[19], line 1\u001B[0m\n\u001B[0;32m----> 1\u001B[0m \u001B[43mEntities\u001B[49m\u001B[38;5;241;43m.\u001B[39;49m\u001B[43m__origin__\u001B[49m\n",
      "\u001B[0;31mAttributeError\u001B[0m: type object 'Entities' has no attribute '__origin__'"
     ]
    }
   ],
   "source": [
    "Entities.__origin__"
   ],
   "metadata": {
    "collapsed": false
   }
  },
  {
   "cell_type": "code",
   "execution_count": null,
   "outputs": [],
   "source": [
    "dict.__getattribute__()"
   ],
   "metadata": {
    "collapsed": false
   }
  }
 ],
 "metadata": {
  "kernelspec": {
   "display_name": "Python 3",
   "language": "python",
   "name": "python3"
  },
  "language_info": {
   "codemirror_mode": {
    "name": "ipython",
    "version": 2
   },
   "file_extension": ".py",
   "mimetype": "text/x-python",
   "name": "python",
   "nbconvert_exporter": "python",
   "pygments_lexer": "ipython2",
   "version": "2.7.6"
  }
 },
 "nbformat": 4,
 "nbformat_minor": 0
}
